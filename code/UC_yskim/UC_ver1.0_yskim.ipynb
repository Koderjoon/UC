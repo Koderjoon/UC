{
 "cells": [
  {
   "cell_type": "code",
   "execution_count": 14,
   "id": "cac83dc4",
   "metadata": {},
   "outputs": [],
   "source": [
    "__author__ = \"Yun-Su Kim, Author1\"\n",
    "__copyright__ = \"Copyright 2022, Gwangju Institute of Science and Technology\"\n",
    "__credits__ = [\"Yun-Su Kim\", \"Author1\"]\n",
    "__version__ = \"1.0\"\n",
    "__maintainer__ = \"Yun-Su Kim\"\n",
    "__email__ = \"yunsukim@gist.ac.kr\"\n",
    "__status__ = \"Test\"\n",
    "\n",
    "import numpy as np\n",
    "import matplotlib.pyplot as plt\n",
    "from docplex.mp.model import Model\n",
    "\n",
    "### 발전기 객체 모델 / 단위: Power in MW, Ramp in MW/min\n",
    "class ThermalGenerator:\n",
    "    def __init__(self, name, busNumber, minMaxPower, rampUpDownLimit, costCoeff, numberOfPieces):\n",
    "        self.name = name\n",
    "        self.busNumber = busNumber\n",
    "        self.minPower = minMaxPower[0]\n",
    "        self.maxPower = minMaxPower[1]\n",
    "        self.rampUpLimit = rampUpDownLimit[0]\n",
    "        self.rampDownLimit = rampUpDownLimit[1]\n",
    "        self.a = costCoeff[0]\n",
    "        self.startupCost = costCoeff[3]\n",
    "        self.shutdownCost = costCoeff[4]\n",
    "        \n",
    "        slopesOfCostFunction = np.zeros(numberOfPieces)\n",
    "        maxPowerPerPiece = self.maxPower / numberOfPieces\n",
    "        self.maxPowerPerPiece = maxPowerPerPiece\n",
    "        for i in range(numberOfPieces):\n",
    "            slopesOfCostFunction[i] = ( costCoeff[0] + costCoeff[1]*(maxPowerPerPiece*(i + 1)) \n",
    "                                       + costCoeff[2]*(maxPowerPerPiece*(i + 1))**2\n",
    "                                       - costCoeff[0] - costCoeff[1]*maxPowerPerPiece*i\n",
    "                                       - costCoeff[2]*(maxPowerPerPiece*i)**2 ) / maxPowerPerPiece\n",
    "        self.slopes = slopesOfCostFunction\n",
    "\n",
    "class PumpedStorage:\n",
    "    def __init__(self, name, busNumber, minMaxPowerPump, rampUpDownLimit, initTermSOC, maxCapacity, efficiency, isFixedSpeed, fixedPumpPower):\n",
    "        self.name = name\n",
    "        self.busNumber = busNumber\n",
    "        self.minPower = minMaxPowerPump[0]\n",
    "        self.maxPower = minMaxPowerPump[1]\n",
    "        self.minPump = minMaxPowerPump[2]\n",
    "        self.maxPump = minMaxPowerPump[3]\n",
    "        self.rampUpLimit = rampUpDownLimit[0]\n",
    "        self.rampDownLimit = rampUpDownLimit[1]\n",
    "        self.initSOC = initTermSOC[0]\n",
    "        self.termSOC = initTermSOC[1]\n",
    "        self.maxCapacity = maxCapacity\n",
    "        self.efficiency = efficiency\n",
    "        self.isFixedSpeed = isFixedSpeed\n",
    "        self.fixedPumpPower = fixedPumpPower\n",
    "        \n",
    "class EnergyStorage:\n",
    "    def __init__(self, name, busNumber, minMaxPower, initTermSOC, maxCapacity, efficiency):\n",
    "        self.name = name\n",
    "        self.busNumber = busNumber\n",
    "        self.minPower = minMaxPower[0]\n",
    "        self.maxPower = minMaxPower[1]\n",
    "        self.initSOC = initTermSOC[0]\n",
    "        self.termSOC = initTermSOC[1]\n",
    "        self.maxCapacity = maxCapacity\n",
    "        self.efficiency = efficiency\n",
    "\n",
    "### 함수 목록\n",
    "def calculateGenCost(slopes, powers, isOn, a):\n",
    "    nSlope = len(slopes)\n",
    "    cost = 0\n",
    "    for i in range(nSlope):\n",
    "        cost = cost + slopes[i]*powers[i]\n",
    "    cost = cost + isOn*a\n",
    "    return cost\n",
    "\n",
    "def runDcPowerFlow(bus, branch):\n",
    "    nBus = np.shape(bus)[0]\n",
    "    nBranch = np.shape(branch)[0]\n",
    "    B = np.zeros((nBus,nBus))\n",
    "    \n",
    "    for i in range(nBranch):\n",
    "        x = branch[i,0,None]    #Get 'from bus'\n",
    "        y = branch[i,1,None]    #Get 'to bus'\n",
    "        B[int(x-1),int(y-1)] = branch[i,2,None] #Set Suceptance on B matrix\n",
    "        B[int(y-1),int(x-1)] = branch[i,2,None] #Set Suceptance on B matrix\n",
    "        B[int(x-1),int(x-1)] = (B[int(x-1),int(x-1)] - branch[i,2,None])\n",
    "        B[int(y-1),int(y-1)] = (B[int(y-1),int(y-1)] - branch[i,2,None])\n",
    "    B = np.delete(B,0,0)    #Delete swing bus data\n",
    "    B = np.delete(B,0,1)    #Delete swing bus data\n",
    "    B = np.asmatrix(B)      #Convert to matrix\n",
    "    B = np.linalg.inv(B)    #Invert Y-bus matrix\n",
    "\n",
    "    busNetPower = bus[1:,1,None] - bus[1:,2,None] #Solve for net power at each bus except swing bus\n",
    "    busNetPower = np.asmatrix(busNetPower)       #Convert to matrix\n",
    "\n",
    "    theta = B*busNetPower           #swing bus를 제외한 theta 계산\n",
    "    theta = np.vstack((0,theta))    #swing bus theta=0 row1에 추가\n",
    "\n",
    "    output = branch.astype(float)   #Copy branch array over to an output array\n",
    "\n",
    "    for i in range(nBranch):\n",
    "        x = branch[i,0,None]    #Get 'from bus'\n",
    "        y = branch[i,1,None]    #Get 'to bus'\n",
    "        output[i,2,None] = -branch[i,2,None]*(theta[int(x-1)]-theta[int(y-1)])\n",
    "      \n",
    "    return [nBus, nBranch, B, output]\n"
   ]
  },
  {
   "cell_type": "code",
   "execution_count": 15,
   "id": "646ef05d",
   "metadata": {},
   "outputs": [
    {
     "data": {
      "text/plain": [
       "array([[1., 0., 0.],\n",
       "       [2., 0., 0.],\n",
       "       [3., 0., 0.],\n",
       "       [4., 0., 0.]])"
      ]
     },
     "execution_count": 15,
     "metadata": {},
     "output_type": "execute_result"
    }
   ],
   "source": [
    "bus"
   ]
  },
  {
   "cell_type": "code",
   "execution_count": 16,
   "id": "15848ba4",
   "metadata": {},
   "outputs": [
    {
     "data": {
      "text/plain": [
       "array([[  1.,   2., -10.],\n",
       "       [  1.,   3., -10.],\n",
       "       [  1.,   4., -10.],\n",
       "       [  2.,   3., -10.],\n",
       "       [  3.,   4., -10.]])"
      ]
     },
     "execution_count": 16,
     "metadata": {},
     "output_type": "execute_result"
    }
   ],
   "source": [
    "branch"
   ]
  },
  {
   "cell_type": "code",
   "execution_count": 22,
   "id": "b52967d6",
   "metadata": {},
   "outputs": [],
   "source": [
    "a,b,c,d = runDcPowerFlow(bus,branch)"
   ]
  },
  {
   "cell_type": "code",
   "execution_count": 17,
   "id": "c21ed1f5",
   "metadata": {},
   "outputs": [
    {
     "name": "stdout",
     "output_type": "stream",
     "text": [
      "4\n",
      "5 \n",
      " [[0.0625 0.025  0.0125]\n",
      " [0.025  0.05   0.025 ]\n",
      " [0.0125 0.025  0.0625]] \n",
      "\n",
      " [[1. 2. 0.]\n",
      " [1. 3. 0.]\n",
      " [1. 4. 0.]\n",
      " [2. 3. 0.]\n",
      " [3. 4. 0.]]\n"
     ]
    }
   ],
   "source": [
    "print(a)\n",
    "print(b,'\\n',c,'\\n\\n',d)"
   ]
  },
  {
   "cell_type": "code",
   "execution_count": 18,
   "id": "a2e7bb6f",
   "metadata": {
    "scrolled": false
   },
   "outputs": [],
   "source": [
    "### Load data\n",
    "load = [3, 3, 8, 3, 3, 3, 3, 3, 3, 3, 4, 4, 5, 6, 6, 6, 5, 4, 4, 5, 6, 4, 2, 0]\n",
    "UNIT_TIME = 1 # Timeslot마다 에너지MWh를 구하기 위해 출력MW에 곱해져야하는 시간 단위, 1/4 = 15 min\n",
    "SOC_PUMP_MIN = 0.4\n",
    "SOC_PUMP_MAX = 1\n",
    "SOC_PUMP_INIT = 0.9\n",
    "SOC_PUMP_TERM = 0.8\n",
    "SOC_ESS_MIN = 0.3\n",
    "SOC_ESS_MAX = 0.8\n",
    "SOC_ESS_INIT = 0.5\n",
    "SOC_ESS_TERM = 0.5\n",
    "N_PIECE = 3 # cost function을 선형화할 구간 수\n",
    "costCoeff = [1, 2, 3, 2, 1] # a, b, c 계수, startup, shutdown 비용\n",
    "# 조류계산 고려시\n",
    "bus = np.loadtxt('bus.txt', delimiter = ',', skiprows = 1, dtype = float)\n",
    "branch = np.loadtxt('branch.txt', delimiter = ',', skiprows = 1, dtype = float)\n",
    "[nBus, nBranch, B, powerFlowResult] = runDcPowerFlow(bus, branch)\n",
    "FLOW_LIMIT = 2*np.ones(nBranch)    #Branch별 flow limit. 임의설정\n",
    "\n",
    "### 발전기 목록 생성 및 추가\n",
    "generatorList = []\n",
    "pumpList = []\n",
    "essList = []\n",
    "#***중요 : 발전기 종류별로 최소 하나는 추가해야 함. 실제로 발전기가 없는 경우는 최소최대 발전을 0으로 설정 \n",
    "generatorList.append( ThermalGenerator('신고리', 2, [2, 10], [1/60, 1/60], costCoeff, N_PIECE) )\n",
    "pumpList.append( PumpedStorage('청평', 3, [1, 10, 0, 10], [5/60, 5/60], [SOC_PUMP_INIT, SOC_PUMP_TERM], 20, 0.8, 1, 1) )\n",
    "essList.append( EnergyStorage('한전1', 4, [0, 1], [SOC_ESS_INIT, SOC_ESS_TERM], 5, 0.9) )\n",
    "\n",
    "### Set number of variables\n",
    "nGen = len(generatorList)\n",
    "nPump = len(pumpList)\n",
    "nEss = len(essList)\n",
    "nTimeslot = len(load)"
   ]
  },
  {
   "cell_type": "code",
   "execution_count": 19,
   "id": "473e43a9",
   "metadata": {},
   "outputs": [
    {
     "data": {
      "text/plain": [
       "'신고리'"
      ]
     },
     "execution_count": 19,
     "metadata": {},
     "output_type": "execute_result"
    }
   ],
   "source": [
    "generatorList[0].name"
   ]
  },
  {
   "cell_type": "code",
   "execution_count": 20,
   "id": "b9deed5c",
   "metadata": {},
   "outputs": [
    {
     "ename": "NameError",
     "evalue": "name 'violationList' is not defined",
     "output_type": "error",
     "traceback": [
      "\u001b[1;31m---------------------------------------------------------------------------\u001b[0m",
      "\u001b[1;31mNameError\u001b[0m                                 Traceback (most recent call last)",
      "\u001b[1;32mc:\\Users\\junhee\\Desktop\\UC_ver1.0_yskim\\UC_ver1.0_yskim.ipynb 셀 8\u001b[0m in \u001b[0;36m<cell line: 111>\u001b[1;34m()\u001b[0m\n\u001b[0;32m    <a href='vscode-notebook-cell:/c%3A/Users/junhee/Desktop/UC_ver1.0_yskim/UC_ver1.0_yskim.ipynb#X10sZmlsZQ%3D%3D?line=102'>103</a>\u001b[0m     m\u001b[39m.\u001b[39madd_constraint( U_gen[i, \u001b[39m0\u001b[39m] \u001b[39m==\u001b[39m SU_gen[i, \u001b[39m0\u001b[39m] ) \u001b[39m# 시작할때부터 발전기 켜져있으면 startup 비용 추가\u001b[39;00m\n\u001b[0;32m    <a href='vscode-notebook-cell:/c%3A/Users/junhee/Desktop/UC_ver1.0_yskim/UC_ver1.0_yskim.ipynb#X10sZmlsZQ%3D%3D?line=104'>105</a>\u001b[0m \u001b[39m### ***** 조류계산 제약. DC power line flow 제약만 *****\u001b[39;00m\n\u001b[0;32m    <a href='vscode-notebook-cell:/c%3A/Users/junhee/Desktop/UC_ver1.0_yskim/UC_ver1.0_yskim.ipynb#X10sZmlsZQ%3D%3D?line=105'>106</a>\u001b[0m \u001b[39m# '조류계산으로 flow limit violation 확인' 섹션 수행 후 violation 발생한 경우만 포함\u001b[39;00m\n\u001b[0;32m    <a href='vscode-notebook-cell:/c%3A/Users/junhee/Desktop/UC_ver1.0_yskim/UC_ver1.0_yskim.ipynb#X10sZmlsZQ%3D%3D?line=106'>107</a>\u001b[0m \u001b[39m# violationList에서 위배 발생한 시간과 branch 검색 가능\u001b[39;00m\n\u001b[0;32m    <a href='vscode-notebook-cell:/c%3A/Users/junhee/Desktop/UC_ver1.0_yskim/UC_ver1.0_yskim.ipynb#X10sZmlsZQ%3D%3D?line=107'>108</a>\u001b[0m \u001b[39m#******************중요*************************\u001b[39;00m\n\u001b[0;32m    <a href='vscode-notebook-cell:/c%3A/Users/junhee/Desktop/UC_ver1.0_yskim/UC_ver1.0_yskim.ipynb#X10sZmlsZQ%3D%3D?line=108'>109</a>\u001b[0m \u001b[39m#violationList = []  # 첫 번째 수행시만 주석 해제, violation 생기고 나면 주석 처리\u001b[39;00m\n\u001b[1;32m--> <a href='vscode-notebook-cell:/c%3A/Users/junhee/Desktop/UC_ver1.0_yskim/UC_ver1.0_yskim.ipynb#X10sZmlsZQ%3D%3D?line=110'>111</a>\u001b[0m nViolatedTimeslot \u001b[39m=\u001b[39m \u001b[39mlen\u001b[39m(violationList)\n\u001b[0;32m    <a href='vscode-notebook-cell:/c%3A/Users/junhee/Desktop/UC_ver1.0_yskim/UC_ver1.0_yskim.ipynb#X10sZmlsZQ%3D%3D?line=111'>112</a>\u001b[0m busNetPower_var \u001b[39m=\u001b[39m []\n\u001b[0;32m    <a href='vscode-notebook-cell:/c%3A/Users/junhee/Desktop/UC_ver1.0_yskim/UC_ver1.0_yskim.ipynb#X10sZmlsZQ%3D%3D?line=112'>113</a>\u001b[0m theta_var \u001b[39m=\u001b[39m []\n",
      "\u001b[1;31mNameError\u001b[0m: name 'violationList' is not defined"
     ]
    }
   ],
   "source": [
    "##### MILP #####\n",
    "# 최적화 변수들에는 기존에 정한 naming rule을 따르지 않고 보편적으로 사용되는 변수 알파벳을 사용\n",
    "# 변수 알파벳 옆의 아래 첨자는 '_'를 이용해 표시했고 아래 첨자는 가능한 naming rule을 따름\n",
    "\n",
    "m = Model(name='Unit Commitment')\n",
    "\n",
    "### 변수 생성\n",
    "P_gen = m.continuous_var_list(nGen)\n",
    "for i in range(nGen):\n",
    "    P_gen[i] = m.continuous_var_matrix(N_PIECE, nTimeslot, lb=0, ub=generatorList[i].maxPowerPerPiece)\n",
    "U_gen = m.binary_var_matrix(nGen, nTimeslot)\n",
    "SU_gen = m.binary_var_matrix(nGen, nTimeslot)\n",
    "SD_gen = m.binary_var_matrix(nGen, nTimeslot)\n",
    "\n",
    "for i in range(nPump):\n",
    "    P_pumpChg = m.continuous_var_matrix(nPump, nTimeslot, lb=0, ub=pumpList[i].maxPower)\n",
    "    P_pumpDis = m.continuous_var_matrix(nPump, nTimeslot, lb=0, ub=pumpList[i].maxPump)\n",
    "U_pumpChg = m.binary_var_matrix(nPump, nTimeslot)\n",
    "U_pumpDis = m.binary_var_matrix(nPump, nTimeslot)\n",
    "\n",
    "for i in range(nEss):\n",
    "    P_essChg = m.continuous_var_matrix(nEss, nTimeslot, lb=0, ub=essList[i].maxPower)\n",
    "    P_essDis = m.continuous_var_matrix(nEss, nTimeslot, lb=0, ub=essList[i].maxPower)\n",
    "U_essChg = m.binary_var_matrix(nEss, nTimeslot)\n",
    "U_essDis = m.binary_var_matrix(nEss, nTimeslot)\n",
    "\n",
    "### 제약조건\n",
    "# 모든전원 최소 최대 출력 제약, ONOFF 제약, 수급균형 제약\n",
    "for j in range(nTimeslot):\n",
    "    for i in range(nGen):\n",
    "        m.add_constraint( sum(P_gen[i][k, j] for k in range(N_PIECE)) >= U_gen[i, j]*generatorList[i].minPower )\n",
    "        m.add_constraint( sum(P_gen[i][k, j] for k in range(N_PIECE)) <= U_gen[i, j]*generatorList[i].maxPower )\n",
    "        m.add_constraint( SU_gen[i, j] + SD_gen[i, j] <= 1 )\n",
    "        m.add_constraint( sum(P_gen[i][k, j] for k in range(N_PIECE))\n",
    "                          + sum(P_pumpDis[l, j] for l in range(nPump))\n",
    "                          - sum(P_pumpChg[l, j] for l in range(nPump))\n",
    "                          + sum(P_essDis[l, j] for l in range(nEss))\n",
    "                          - sum(P_essChg[l, j] for l in range(nEss)) == load[j] )\n",
    "    for i in range(nPump):\n",
    "        m.add_constraint( P_pumpDis[i, j] <= U_pumpDis[i, j]*pumpList[i].maxPower )\n",
    "        m.add_constraint( P_pumpDis[i, j] >= U_pumpDis[i, j]*pumpList[i].minPower )\n",
    "        m.add_constraint( P_pumpChg[i, j] \n",
    "                         <= U_pumpChg[i, j]*\n",
    "                         (pumpList[i].maxPump - 0.9999*pumpList[i].isFixedSpeed*(pumpList[i].maxPump - pumpList[i].fixedPumpPower)) )\n",
    "        m.add_constraint( P_pumpChg[i, j] \n",
    "                         >= U_pumpChg[i, j]*\n",
    "                         (pumpList[i].minPump + 0.9999*pumpList[i].isFixedSpeed*(pumpList[i].fixedPumpPower - pumpList[i].minPump)) )\n",
    "        m.add_constraint( U_pumpDis[i, j] + U_pumpChg[i, j] <= 1 )\n",
    "    for i in range(nEss):\n",
    "        m.add_constraint( P_essDis[i, j] <= U_essDis[i, j]*essList[i].maxPower )\n",
    "        m.add_constraint( P_essChg[i, j] <= U_essChg[i, j]*essList[i].maxPower )\n",
    "        m.add_constraint( U_essDis[i, j] + U_essChg[i, j] <= 1 )\n",
    "# SOC 제약\n",
    "for j in range(nTimeslot):\n",
    "    for i in range(nPump):\n",
    "        m.add_constraint( pumpList[i].initSOC\n",
    "                          - sum(P_pumpDis[i, k]*UNIT_TIME/pumpList[i].maxCapacity #양수는 발전시 효율 곱하지 않음\n",
    "                                for k in range(j + 1))\n",
    "                          + sum(P_pumpChg[i, k]*UNIT_TIME*pumpList[i].efficiency/pumpList[i].maxCapacity\n",
    "                                for k in range(j + 1)) <=  SOC_PUMP_MAX )\n",
    "        m.add_constraint( pumpList[i].initSOC\n",
    "                          - sum(P_pumpDis[i, k]*UNIT_TIME/pumpList[i].maxCapacity\n",
    "                                for k in range(j + 1))\n",
    "                          + sum(P_pumpChg[i, k]*UNIT_TIME*pumpList[i].efficiency/pumpList[i].maxCapacity\n",
    "                                for k in range(j + 1)) >=  SOC_PUMP_MIN )\n",
    "    for i in range(nEss):\n",
    "        m.add_constraint( essList[i].initSOC\n",
    "                          - sum(P_essDis[i, k]*UNIT_TIME/essList[i].efficiency/essList[i].maxCapacity\n",
    "                                for k in range(j + 1))\n",
    "                          + sum(P_essChg[i, k]*UNIT_TIME*essList[i].efficiency/essList[i].maxCapacity\n",
    "                                for k in range(j + 1)) <=  SOC_ESS_MAX )\n",
    "        m.add_constraint( essList[i].initSOC\n",
    "                          - sum(P_essDis[i, k]*UNIT_TIME/essList[i].efficiency/essList[i].maxCapacity\n",
    "                                for k in range(j + 1))\n",
    "                          + sum(P_essChg[i, k]*UNIT_TIME*essList[i].efficiency/essList[i].maxCapacity\n",
    "                                for k in range(j + 1)) >=  SOC_ESS_MIN )\n",
    "for i in range(nPump):\n",
    "    m.add_constraint( pumpList[i].initSOC\n",
    "                     - sum(P_pumpDis[i, k]*UNIT_TIME/pumpList[i].maxCapacity for k in range(nTimeslot))\n",
    "                     + sum(P_pumpChg[i, k]*UNIT_TIME*pumpList[i].efficiency/pumpList[i].maxCapacity for k in range(nTimeslot))\n",
    "                     >=  pumpList[i].termSOC )\n",
    "for i in range(nEss):\n",
    "    m.add_constraint( essList[i].initSOC\n",
    "                     - sum(P_essDis[i, k]*UNIT_TIME/essList[i].efficiency/essList[i].maxCapacity for k in range(nTimeslot))\n",
    "                     + sum(P_essChg[i, k]*UNIT_TIME*essList[i].efficiency/essList[i].maxCapacity for k in range(nTimeslot))\n",
    "                     ==  essList[i].termSOC )\n",
    "# 전원 rampup down 제약, ONOFF 제약\n",
    "for j in range(nTimeslot - 1):\n",
    "    # 발전기 rampup down 제약, ONOFF 제약\n",
    "    for i in range(nGen):\n",
    "        m.add_constraint( sum(P_gen[i][k, j + 1] for k in range(N_PIECE))\n",
    "                         - sum(P_gen[i][k, j] for k in range(N_PIECE)) <= generatorList[i].rampUpLimit*60*UNIT_TIME )\n",
    "        m.add_constraint( sum(P_gen[i][k, j + 1] for k in range(N_PIECE))\n",
    "                         - sum(P_gen[i][k, j] for k in range(N_PIECE)) >= -generatorList[i].rampUpLimit*60*UNIT_TIME )\n",
    "        m.add_constraint( U_gen[i, j + 1] - U_gen[i, j] == SU_gen[i, j + 1] - SD_gen[i, j + 1]  )\n",
    "    # 양수 rampup down 제약\n",
    "    for i in range(nPump):\n",
    "        m.add_constraint( P_pumpDis[i, j + 1] - P_pumpDis[i, j] <= pumpList[i].rampUpLimit*60*UNIT_TIME )\n",
    "        m.add_constraint( P_pumpDis[i, j + 1] - P_pumpDis[i, j] >= -pumpList[i].rampDownLimit*60*UNIT_TIME )\n",
    "        #m.add_constraint( P_pumpChg[i, j + 1] - P_pumpChg[i, j] <= pumpList[i].rampUpLimit*60*UNIT_TIME )\n",
    "        #m.add_constraint( P_pumpChg[i, j + 1] - P_pumpChg[i, j] >= -pumpList[i]rampDownLimit*60*UNIT_TIME )\n",
    "for i in range(nGen):\n",
    "    m.add_constraint( U_gen[i, 0] == SU_gen[i, 0] ) # 시작할때부터 발전기 켜져있으면 startup 비용 추가\n",
    "\n",
    "### ***** 조류계산 제약. DC power line flow 제약만 *****\n",
    "# '조류계산으로 flow limit violation 확인' 섹션 수행 후 violation 발생한 경우만 포함\n",
    "# violationList에서 위배 발생한 시간과 branch 검색 가능\n",
    "#******************중요*************************\n",
    "#violationList = []  # 첫 번째 수행시만 주석 해제, violation 생기고 나면 주석 처리\n",
    "\n",
    "nViolatedTimeslot = len(violationList)\n",
    "busNetPower_var = []\n",
    "theta_var = []\n",
    "for i in range(nViolatedTimeslot):\n",
    "    t = int(violationList[i][0]) # 위배가 발생한 시간 index\n",
    "    busNetPower_var.append( [0]*(nBus - 1) )\n",
    "    theta_var.append( [0]*(nBus - 1) )\n",
    "    \n",
    "    # 전원들의 발전량을 위치한 모선에 할당\n",
    "    #busNetPower_var = [0]*(nBus - 1)\n",
    "    for k in range(nBus - 1):\n",
    "        for l in range(nGen):\n",
    "            if generatorList[l].busNumber == k+2: # slack 모선을 제외했으므로 index 2가 0번째 row가 됨\n",
    "                busNetPower_var[i][k] = busNetPower_var[i][k] + sum(P_gen[l][m, t] for m in range(N_PIECE))\n",
    "        for l in range(nPump):\n",
    "            if pumpList[l].busNumber == k+2:\n",
    "                busNetPower_var[i][k] = busNetPower_var[i][k] + P_pumpDis[l, t] - P_pumpChg[l, t]\n",
    "        for l in range(nEss):\n",
    "            if essList[l].busNumber == k+2:\n",
    "                busNetPower_var[i][k] = busNetPower_var[i][k] + P_essDis[l, t] - P_essChg[l, t]\n",
    "                \n",
    "    # 총부하량을 모선별 분배 할당 *** 향후 개선 필요\n",
    "    busNetPower_var[i][0] = busNetPower_var[i][0] - load[int(t)]*0.3\n",
    "    busNetPower_var[i][1] = busNetPower_var[i][1] - load[int(t)]*0.3\n",
    "    busNetPower_var[i][2] = busNetPower_var[i][2] - load[int(t)]*0.4\n",
    "    busNetPower_var[i] = np.resize(busNetPower_var[i],(nBus - 1,1))\n",
    "    \n",
    "    theta_var[i] = np.concatenate((np.zeros([1,1]),B*busNetPower_var[i]), axis=0)\n",
    "    \n",
    "    nViolatedBranch = len(violationList[i]) - 1 # list에서 time index는 제외하므로 -1\n",
    "    for j in range(nViolatedBranch):\n",
    "        k = int(violationList[i][j + 1]) # 위배한 branch index\n",
    "        m.add_constraint( -branch[k,2,None][0]*(theta_var[i][int(branch[k,0,None]-1),0]\n",
    "                                                - theta_var[i][int(branch[k,1,None]-1),0]) <= FLOW_LIMIT[k] )\n",
    "        m.add_constraint( -branch[k,2,None][0]*(theta_var[i][int(branch[k,0,None]-1),0]\n",
    "                                                - theta_var[i][int(branch[k,1,None]-1),0]) >= -FLOW_LIMIT[k] )\n",
    "\n",
    "### 목적함수\n",
    "m.set_objective(\"min\", sum(generatorList[i].slopes[j]*P_gen[i][j, k] for i in range(nGen) for j in range(N_PIECE)\n",
    "                           for k in range(nTimeslot))*UNIT_TIME\n",
    "                + sum(U_gen[i, j]*generatorList[i].a*UNIT_TIME + SU_gen[i, j]*generatorList[i].startupCost\n",
    "                      + SD_gen[i, j]*generatorList[i].shutdownCost for i in range(nGen) for j in range(nTimeslot)) )\n",
    "                               \n",
    "m.print_information()\n",
    "sol = m.solve()\n",
    "print(m.objective_value)\n",
    "\n",
    "### Solution 저장\n",
    "P_genSol = np.zeros([nGen, nTimeslot])\n",
    "U_genSol = np.zeros([nGen, nTimeslot])\n",
    "SU_genSol = np.zeros([nGen, nTimeslot])\n",
    "SD_genSol = np.zeros([nGen, nTimeslot])\n",
    "P_pumpDisSol = np.zeros([nPump, nTimeslot])\n",
    "P_pumpChgSol = np.zeros([nPump, nTimeslot])\n",
    "U_pumpDisSol = np.zeros([nPump, nTimeslot])\n",
    "U_pumpChgSol = np.zeros([nPump, nTimeslot])\n",
    "P_essDisSol = np.zeros([nEss, nTimeslot])\n",
    "P_essChgSol = np.zeros([nEss, nTimeslot])\n",
    "U_essDisSol = np.zeros([nEss, nTimeslot])\n",
    "U_essChgSol = np.zeros([nEss, nTimeslot])\n",
    "socPump = np.zeros([nPump, nTimeslot])\n",
    "socEss = np.zeros([nEss, nTimeslot])\n",
    "for i in range(nTimeslot):\n",
    "    for j in range(nGen):\n",
    "        P_genSol[j, i] = sum( sol.get_value(P_gen[j][k, i]) for k in range(N_PIECE) )\n",
    "        U_genSol[j, i] = sol.get_value(U_gen[j, i])\n",
    "        SU_genSol[j, i] = sol.get_value(SU_gen[j, i])\n",
    "        SD_genSol[j, i] = sol.get_value(SD_gen[j, i])\n",
    "    for j in range(nPump):\n",
    "        P_pumpDisSol[j, i] = sol.get_value(P_pumpDis[j, i])\n",
    "        P_pumpChgSol[j, i] = sol.get_value(P_pumpChg[j, i])\n",
    "        U_pumpDisSol[j, i] = sol.get_value(U_pumpDis[j, i])\n",
    "        U_pumpChgSol[j, i] = sol.get_value(U_pumpChg[j, i])\n",
    "        socPump[j, i] = (pumpList[j].initSOC \n",
    "                         - sum(P_pumpDisSol[j, k]*UNIT_TIME/pumpList[j].efficiency/pumpList[j].maxCapacity for k in range(i + 1)) \n",
    "                         + sum(P_pumpChgSol[j, k]*UNIT_TIME*pumpList[j].efficiency/pumpList[j].maxCapacity for k in range(i + 1)))\n",
    "    for j in range(nEss):\n",
    "        P_essDisSol[j, i] = sol.get_value(P_essDis[j, i])\n",
    "        P_essChgSol[j, i] = sol.get_value(P_essChg[j, i])\n",
    "        U_essDisSol[j, i] = sol.get_value(U_essDis[j, i])\n",
    "        U_essChgSol[j, i] = sol.get_value(U_essChg[j, i])\n",
    "        socEss[j, i] = (essList[j].initSOC \n",
    "                        - sum(P_essDisSol[j, k]*UNIT_TIME/essList[j].efficiency/essList[j].maxCapacity for k in range(i + 1)) \n",
    "                        + sum(P_essChgSol[j, k]*UNIT_TIME*essList[j].efficiency/essList[j].maxCapacity for k in range(i + 1)))"
   ]
  },
  {
   "cell_type": "code",
   "execution_count": null,
   "id": "97db1ed9",
   "metadata": {
    "scrolled": false
   },
   "outputs": [
    {
     "ename": "NameError",
     "evalue": "name 'P_genSol' is not defined",
     "output_type": "error",
     "traceback": [
      "\u001b[1;31m---------------------------------------------------------------------------\u001b[0m",
      "\u001b[1;31mNameError\u001b[0m                                 Traceback (most recent call last)",
      "\u001b[1;32mc:\\Users\\junhee\\Desktop\\UC_ver1.0_yskim\\UC_ver1.0_yskim.ipynb 셀 9\u001b[0m in \u001b[0;36m<cell line: 1>\u001b[1;34m()\u001b[0m\n\u001b[0;32m      <a href='vscode-notebook-cell:/c%3A/Users/junhee/Desktop/UC_ver1.0_yskim/UC_ver1.0_yskim.ipynb#X11sZmlsZQ%3D%3D?line=0'>1</a>\u001b[0m \u001b[39mfor\u001b[39;00m i \u001b[39min\u001b[39;00m \u001b[39mrange\u001b[39m(nGen):\n\u001b[1;32m----> <a href='vscode-notebook-cell:/c%3A/Users/junhee/Desktop/UC_ver1.0_yskim/UC_ver1.0_yskim.ipynb#X11sZmlsZQ%3D%3D?line=1'>2</a>\u001b[0m     plt\u001b[39m.\u001b[39mplot(P_genSol[i, :], label\u001b[39m=\u001b[39m\u001b[39m'\u001b[39m\u001b[39mP_gen\u001b[39m\u001b[39m'\u001b[39m\u001b[39m+\u001b[39m\u001b[39mstr\u001b[39m(i))\n\u001b[0;32m      <a href='vscode-notebook-cell:/c%3A/Users/junhee/Desktop/UC_ver1.0_yskim/UC_ver1.0_yskim.ipynb#X11sZmlsZQ%3D%3D?line=2'>3</a>\u001b[0m \u001b[39mfor\u001b[39;00m i \u001b[39min\u001b[39;00m \u001b[39mrange\u001b[39m(nPump):\n\u001b[0;32m      <a href='vscode-notebook-cell:/c%3A/Users/junhee/Desktop/UC_ver1.0_yskim/UC_ver1.0_yskim.ipynb#X11sZmlsZQ%3D%3D?line=3'>4</a>\u001b[0m     plt\u001b[39m.\u001b[39mplot(P_pumpDisSol[i, :], label\u001b[39m=\u001b[39m\u001b[39m'\u001b[39m\u001b[39mP_pumpDis\u001b[39m\u001b[39m'\u001b[39m\u001b[39m+\u001b[39m\u001b[39mstr\u001b[39m(i))\n",
      "\u001b[1;31mNameError\u001b[0m: name 'P_genSol' is not defined"
     ]
    }
   ],
   "source": [
    "for i in range(nGen):\n",
    "    plt.plot(P_genSol[i, :], label='P_gen'+str(i))\n",
    "for i in range(nPump):\n",
    "    plt.plot(P_pumpDisSol[i, :], label='P_pumpDis'+str(i))\n",
    "for i in range(nPump):\n",
    "    plt.plot(-P_pumpChgSol[i, :], label='P_pumpChg'+str(i))\n",
    "for i in range(nEss):\n",
    "    plt.plot(P_essDisSol[i, :], label='P_essDis'+str(i))\n",
    "for i in range(nEss):\n",
    "    plt.plot(-P_essChgSol[i, :], label='P_essChg'+str(i))\n",
    "plt.legend()\n",
    "\n",
    "print(P_genSol[0, :]+P_pumpDisSol[0, :]-P_pumpChgSol[0,:]+P_essDisSol[0, :]-P_essChgSol[0,:])\n",
    "print(load)\n",
    "print(sol.get_value(P_gen[0][0, 0]))"
   ]
  },
  {
   "cell_type": "code",
   "execution_count": null,
   "id": "279f03b3",
   "metadata": {
    "scrolled": false
   },
   "outputs": [
    {
     "ename": "NameError",
     "evalue": "name 'socPump' is not defined",
     "output_type": "error",
     "traceback": [
      "\u001b[1;31m---------------------------------------------------------------------------\u001b[0m",
      "\u001b[1;31mNameError\u001b[0m                                 Traceback (most recent call last)",
      "\u001b[1;32mc:\\Users\\junhee\\Desktop\\UC_ver1.0_yskim\\UC_ver1.0_yskim.ipynb 셀 10\u001b[0m in \u001b[0;36m<cell line: 1>\u001b[1;34m()\u001b[0m\n\u001b[1;32m----> <a href='vscode-notebook-cell:/c%3A/Users/junhee/Desktop/UC_ver1.0_yskim/UC_ver1.0_yskim.ipynb#X12sZmlsZQ%3D%3D?line=0'>1</a>\u001b[0m plt\u001b[39m.\u001b[39mplot(socPump[\u001b[39m0\u001b[39m,:])\n\u001b[0;32m      <a href='vscode-notebook-cell:/c%3A/Users/junhee/Desktop/UC_ver1.0_yskim/UC_ver1.0_yskim.ipynb#X12sZmlsZQ%3D%3D?line=1'>2</a>\u001b[0m plt\u001b[39m.\u001b[39mplot(socEss[\u001b[39m0\u001b[39m,:])\n",
      "\u001b[1;31mNameError\u001b[0m: name 'socPump' is not defined"
     ]
    }
   ],
   "source": [
    "plt.plot(socPump[0,:])\n",
    "plt.plot(socEss[0,:])"
   ]
  },
  {
   "cell_type": "code",
   "execution_count": null,
   "id": "f6d3ed26",
   "metadata": {},
   "outputs": [
    {
     "ename": "NameError",
     "evalue": "name 'U_genSol' is not defined",
     "output_type": "error",
     "traceback": [
      "\u001b[1;31m---------------------------------------------------------------------------\u001b[0m",
      "\u001b[1;31mNameError\u001b[0m                                 Traceback (most recent call last)",
      "\u001b[1;32mc:\\Users\\junhee\\Desktop\\UC_ver1.0_yskim\\UC_ver1.0_yskim.ipynb 셀 11\u001b[0m in \u001b[0;36m<cell line: 2>\u001b[1;34m()\u001b[0m\n\u001b[0;32m      <a href='vscode-notebook-cell:/c%3A/Users/junhee/Desktop/UC_ver1.0_yskim/UC_ver1.0_yskim.ipynb#X13sZmlsZQ%3D%3D?line=0'>1</a>\u001b[0m plt\u001b[39m.\u001b[39msubplot(\u001b[39m411\u001b[39m)\n\u001b[1;32m----> <a href='vscode-notebook-cell:/c%3A/Users/junhee/Desktop/UC_ver1.0_yskim/UC_ver1.0_yskim.ipynb#X13sZmlsZQ%3D%3D?line=1'>2</a>\u001b[0m plt\u001b[39m.\u001b[39mplot(U_genSol[\u001b[39m0\u001b[39m,:], label\u001b[39m=\u001b[39m\u001b[39m'\u001b[39m\u001b[39mgen\u001b[39m\u001b[39m'\u001b[39m)\n\u001b[0;32m      <a href='vscode-notebook-cell:/c%3A/Users/junhee/Desktop/UC_ver1.0_yskim/UC_ver1.0_yskim.ipynb#X13sZmlsZQ%3D%3D?line=2'>3</a>\u001b[0m plt\u001b[39m.\u001b[39mlegend()\n\u001b[0;32m      <a href='vscode-notebook-cell:/c%3A/Users/junhee/Desktop/UC_ver1.0_yskim/UC_ver1.0_yskim.ipynb#X13sZmlsZQ%3D%3D?line=3'>4</a>\u001b[0m plt\u001b[39m.\u001b[39msubplot(\u001b[39m412\u001b[39m)\n",
      "\u001b[1;31mNameError\u001b[0m: name 'U_genSol' is not defined"
     ]
    },
    {
     "data": {
      "image/png": "[encoded data removed]",
      "text/plain": [
       "<Figure size 432x288 with 1 Axes>"
      ]
     },
     "metadata": {
      "needs_background": "light"
     },
     "output_type": "display_data"
    }
   ],
   "source": [
    "plt.subplot(411)\n",
    "plt.plot(U_genSol[0,:], label='gen')\n",
    "plt.legend()\n",
    "plt.subplot(412)\n",
    "plt.plot(SU_genSol[0,:], label='SU')\n",
    "plt.plot(SD_genSol[0,:], label='SD')\n",
    "plt.legend()\n",
    "plt.subplot(413)\n",
    "plt.plot(U_pumpDisSol[0,:], label='pumpDis')\n",
    "plt.plot(U_pumpChgSol[0,:], label='pumpChg')\n",
    "plt.legend()\n",
    "plt.subplot(414)\n",
    "plt.plot(U_essDisSol[0,:], label='essDis')\n",
    "plt.plot(U_essChgSol[0,:], label='essChg')\n",
    "plt.legend()"
   ]
  },
  {
   "cell_type": "code",
   "execution_count": 9,
   "id": "41e9cc1c",
   "metadata": {
    "scrolled": false
   },
   "outputs": [
    {
     "name": "stderr",
     "output_type": "stream",
     "text": [
      "\n",
      "KeyboardInterrupt\n",
      "\n"
     ]
    }
   ],
   "source": [
    "### 조류계산으로 flow limit violation 확인\n",
    "branch = np.loadtxt('branch.txt', delimiter = ',', skiprows = 1, dtype = float)\n",
    "\n",
    "for i in range(nTimeslot):\n",
    "    bus = np.loadtxt('bus.txt', delimiter = ',', skiprows = 1, dtype = float)\n",
    "    \n",
    "    for k in range(nBus - 1):\n",
    "        for l in range(nGen):\n",
    "            if generatorList[l].busNumber == k+2: # slack 모선을 제외했으므로 index 2가 0번째 row가 됨\n",
    "                bus[k+1,1,None] = bus[k+1,1,None] + P_genSol[l, i]\n",
    "        for l in range(nPump):\n",
    "            if pumpList[l].busNumber == k+2:\n",
    "                bus[k+1,1,None] = bus[k+1,1,None] + P_pumpDisSol[l, i] - P_pumpChgSol[l, i]\n",
    "        for l in range(nEss):\n",
    "            if essList[l].busNumber == k+2:\n",
    "                bus[k+1,1,None] = bus[k+1,1,None] + P_essDisSol[l, i] - P_essChgSol[l, i]\n",
    "\n",
    "    # 총부하량을 모선별 분배 할당 *** 향후 개선 필요\n",
    "    bus[1,2,None] = bus[1,2,None] + load[i]*0.3\n",
    "    bus[2,2,None] = bus[2,2,None] + load[i]*0.3\n",
    "    bus[3,2,None] = bus[3,2,None] + load[i]*0.4\n",
    "\n",
    "    powerFlowResult = runDcPowerFlow(bus, branch)[3]\n",
    "    ## 제약위배가 발생하는 시간대, 발생한 branch만 표시\n",
    "    if len(powerFlowResult[abs(powerFlowResult[:, 2]) > FLOW_LIMIT]) != 0:\n",
    "        print('\\nLine flow violation in time '+str(i)+':')\n",
    "        print(powerFlowResult[abs(powerFlowResult[:, 2]) > FLOW_LIMIT])\n",
    "        nViolatedBranch = np.shape(powerFlowResult[abs(powerFlowResult[:, 2]) > FLOW_LIMIT])[0]\n",
    "        violatedBranch = np.zeros(nViolatedBranch)\n",
    "        for j in range(nViolatedBranch):\n",
    "            violatedBranch[j] = np.where(abs(powerFlowResult[:, 2]) > FLOW_LIMIT)[0][j]\n",
    "        violationList.append( np.concatenate((i*np.ones(1), violatedBranch)) )"
   ]
  },
  {
   "cell_type": "code",
   "execution_count": null,
   "id": "d76b568d",
   "metadata": {
    "scrolled": false
   },
   "outputs": [
    {
     "ename": "NameError",
     "evalue": "name 'violationList' is not defined",
     "output_type": "error",
     "traceback": [
      "\u001b[1;31m---------------------------------------------------------------------------\u001b[0m",
      "\u001b[1;31mNameError\u001b[0m                                 Traceback (most recent call last)",
      "\u001b[1;32mc:\\Users\\junhee\\Desktop\\UC_ver1.0_yskim\\UC_ver1.0_yskim.ipynb 셀 13\u001b[0m in \u001b[0;36m<cell line: 1>\u001b[1;34m()\u001b[0m\n\u001b[1;32m----> <a href='vscode-notebook-cell:/c%3A/Users/junhee/Desktop/UC_ver1.0_yskim/UC_ver1.0_yskim.ipynb#X15sZmlsZQ%3D%3D?line=0'>1</a>\u001b[0m \u001b[39mprint\u001b[39m(violationList)\n",
      "\u001b[1;31mNameError\u001b[0m: name 'violationList' is not defined"
     ]
    }
   ],
   "source": [
    "print(violationList)"
   ]
  },
  {
   "cell_type": "code",
   "execution_count": 1,
   "id": "65d64604",
   "metadata": {},
   "outputs": [],
   "source": [
    "a = 10\n",
    "for i in range(10):\n",
    "    a += 1"
   ]
  },
  {
   "cell_type": "code",
   "execution_count": null,
   "id": "1ca760f3",
   "metadata": {},
   "outputs": [],
   "source": [
    "b = 20\n",
    "for i in range(100):\n",
    "    b += 1"
   ]
  }
 ],
 "metadata": {
  "kernelspec": {
   "display_name": "Python 3.9.13 64-bit",
   "language": "python",
   "name": "python3"
  },
  "language_info": {
   "codemirror_mode": {
    "name": "ipython",
    "version": 3
   },
   "file_extension": ".py",
   "mimetype": "text/x-python",
   "name": "python",
   "nbconvert_exporter": "python",
   "pygments_lexer": "ipython3",
   "version": "3.9.13"
  },
  "vscode": {
   "interpreter": {
    "hash": "c5b2cf58eb262e448e069a8fb250af4ddc64119e452df3d7801e6baffe9deb66"
   }
  }
 },
 "nbformat": 4,
 "nbformat_minor": 5
}
